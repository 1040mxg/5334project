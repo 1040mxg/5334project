{
  "nbformat": 4,
  "nbformat_minor": 0,
  "metadata": {
    "colab": {
      "name": "5334proj",
      "provenance": [],
      "toc_visible": true,
      "authorship_tag": "ABX9TyPPcl+fBzcgVbOHd5PfL65G",
      "include_colab_link": true
    },
    "kernelspec": {
      "name": "python3",
      "display_name": "Python 3"
    },
    "language_info": {
      "name": "python"
    }
  },
  "cells": [
    {
      "cell_type": "markdown",
      "metadata": {
        "id": "view-in-github",
        "colab_type": "text"
      },
      "source": [
        "<a href=\"https://colab.research.google.com/github/1040mxg/5334project/blob/main/5334proj.ipynb\" target=\"_parent\"><img src=\"https://colab.research.google.com/assets/colab-badge.svg\" alt=\"Open In Colab\"/></a>"
      ]
    },
    {
      "cell_type": "markdown",
      "metadata": {
        "id": "OMYGyMoit6up"
      },
      "source": [
        "# Introduction"
      ]
    },
    {
      "cell_type": "markdown",
      "metadata": {
        "id": "jKGTfUbLt92h"
      },
      "source": [
        "[Blog homepage](https://1040mxg.github.io/blog/) || [View Report on Github](https://github.com/1040mxg/5334project/blob/main/5334proj.ipynb) || [Github Repo](https://github.com/1040mxg/5334project)\n",
        "\n",
        "This project will build a classifier to detect specific media bias, and find the probability that a given piece of written news is by, or influenced by, Chinese state-sponsored media. \n",
        "\n",
        "A prevalent issue among mainland Chinese diaspora is the spread of sensationalist “fake news” and propaganda through various websites and popular messaging apps. These news sources are essential parts of life and often the only source of news for older Chinese immigrants, but strict guidelines set forth by the ruling Chinese government (“CCP”) authority restricts what topics may be covered and how, so as to hide calls for reform or exposure of human rights abuses that may subvert government authority. For these reasons, there is a general distrust among Chinese diaspora of state-sanctioned media such as Xinhua or People’s Daily, but very rarely does this same caution extend to English-language sources. This creates the issue that I seek to address: English-language versions of major CCP media exist, both branded and unbranded. I seek to create a classifier that can detect possible state media influence on unbranded (ie. not connected to any large or known news source) English-language articles, by seeing how similar the unknown text is to the writing styles of CCP-sanction media. In this way, the hope is that effects of CCP propaganda on overseas diaspora can be highlighted and reduced.\n"
      ]
    },
    {
      "cell_type": "markdown",
      "metadata": {
        "id": "Od6CHvb4OFJ_"
      },
      "source": [
        "# Method"
      ]
    },
    {
      "cell_type": "markdown",
      "metadata": {
        "id": "umFf9OGOOGon"
      },
      "source": [
        "The datasets used were collected by me over December of 2020. They consist of 6,000 to 7,000 tweets scraped from the official Xinhua News Agency Twitter and a little under 1,000 tweets from NPR News. In addition, about 20 pages of headlines and articles totalling over 110,000 words were scraped from the official Xinhua site.\n",
        "\n",
        "**Xinhua News Agency** is China's largest state-run media, and one notorious for spreading propaganda and censoring information critical of the ruling government. This strong association is why it was chosen for this project.\n",
        "\n",
        "**NPR**, or National Public Radio, is the closest the United States has to a national, state-run news source a la the BBC. With its relatively unbiased and open reporting, it has been chosen as a point of comparison against Xinhua."
      ]
    },
    {
      "cell_type": "markdown",
      "metadata": {
        "id": "KV9OGqyJn5vI"
      },
      "source": [
        " This project makes use of the Natural Language Toolkit (NLTK) to help process text. "
      ]
    },
    {
      "cell_type": "code",
      "metadata": {
        "id": "iAnhYFeqNXi4"
      },
      "source": [
        "pip install --user -U nltk"
      ],
      "execution_count": null,
      "outputs": []
    },
    {
      "cell_type": "markdown",
      "metadata": {
        "id": "uZcx64r1eoMK"
      },
      "source": [
        "# Preprocessing"
      ]
    },
    {
      "cell_type": "markdown",
      "metadata": {
        "id": "D5n-lDNHewYU"
      },
      "source": [
        "First, I import the desired files and load necessary libraries. Here, I've imported the NLTK corpus of English-language stopwords (common articles and prepositions such as \"the\", \"an\", \"there\" that are largely irrelevant in data mining)."
      ]
    },
    {
      "cell_type": "code",
      "metadata": {
        "id": "4DQQlUxPRIJO"
      },
      "source": [
        "###import necessary libaries\n",
        "import nltk\n",
        "from nltk.corpus import words, stopwords\n",
        "nltk.download('stopwords')\n",
        "nltk.download('words')\n",
        "from nltk import ngrams\n",
        "from collections import Counter\n",
        "\n",
        "stopwords = stopwords.words('english')\n",
        "words = words.words()"
      ],
      "execution_count": null,
      "outputs": []
    },
    {
      "cell_type": "markdown",
      "metadata": {
        "id": "ISIT8rhzwd00"
      },
      "source": [
        "I combine all the data from each source into one here, but the data can also be analysed by topic."
      ]
    },
    {
      "cell_type": "code",
      "metadata": {
        "id": "4MSg-vlsv58D"
      },
      "source": [
        "filenames1 = ['tweets_xh_hk.txt', 'tweets_xh_taiwan.txt', 'tweets_xh_xinjiang.txt']\n",
        "filenames2 = ['tweets_npr_hk.txt', 'tweets_npr_tw.txt', 'tweets_npr_xinjiang.txt']\n",
        "\n",
        "with open('tweets_xh_all.txt', 'w') as outfile:\n",
        "    for names in filenames1:\n",
        "        with open(names) as infile:\n",
        "            outfile.write(infile.read())\n",
        "\n",
        "with open('tweets_npr_all.txt', 'w') as outfile:\n",
        "    for names in filenames2:\n",
        "        with open(names) as infile:\n",
        "            outfile.write(infile.read())\n",
        "\n",
        "X = []\n",
        "y = []"
      ],
      "execution_count": 392,
      "outputs": []
    },
    {
      "cell_type": "markdown",
      "metadata": {
        "id": "kmhNNz6CRKLO"
      },
      "source": [
        "Then I load in the data from NPR and Xinhua News, label them, and combine them into one dataset."
      ]
    },
    {
      "cell_type": "code",
      "metadata": {
        "id": "vVyQhmWixBWH",
        "colab": {
          "base_uri": "https://localhost:8080/"
        },
        "outputId": "0019203f-44e5-49e8-9a2c-a9813cfb5c0a"
      },
      "source": [
        "##import data files and print some basic stats\n",
        "###data files will default to combined data unless specified\n",
        "\n",
        "def loadData(file1 = \"tweets_xh_all.txt\", file2=\"tweets_npr_all.txt\"):\n",
        "#first, load the XH and NPR data individually\n",
        "  xhData = []\n",
        "  nprData = []\n",
        "  with open(file1, 'r') as f:\n",
        "    for row in f:\n",
        "      xhData.append(row+'0')\n",
        "  with open(file2, 'r') as f:\n",
        "    for row in f:\n",
        "      nprData.append(row+'1')\n",
        "  print(\"XH items:\", len(xhData))\n",
        "  print(\"NPR items:\", len(nprData))\n",
        "\n",
        "\n",
        "#compile the NPR and XH files into one\n",
        "  data = []\n",
        "  for i in range(len(xhData)):\n",
        "    if len(xhData[i]) > 25:\n",
        "      data.append([xhData[i], '0'])\n",
        "  for i in range(len(nprData)):\n",
        "    if len(nprData[i]) > 25:\n",
        "      data.append([nprData[i], '1'])\n",
        "  print(\"Total data items:\", len(data))\n",
        "  return data\n",
        "\n",
        "data = loadData()"
      ],
      "execution_count": 393,
      "outputs": [
        {
          "output_type": "stream",
          "text": [
            "XH items: 6299\n",
            "NPR items: 698\n",
            "Total data items: 6710\n"
          ],
          "name": "stdout"
        }
      ]
    },
    {
      "cell_type": "markdown",
      "metadata": {
        "id": "Y3PbO1BNSSQR"
      },
      "source": [
        "Next, I shuffle the data and split it into training, dev, and test sets."
      ]
    },
    {
      "cell_type": "code",
      "metadata": {
        "colab": {
          "base_uri": "https://localhost:8080/"
        },
        "id": "mzyTQC5l_LZ2",
        "outputId": "32df078b-a7fe-4003-a7c6-ab5ebf85416e"
      },
      "source": [
        "import random\n",
        "\n",
        "random.seed(1)\n",
        "random.shuffle(data)\n",
        "dataLen = len(data)\n",
        "print(dataLen)\n",
        "\n",
        "###manual division\n",
        "testLen = int(.2*dataLen)\n",
        "devLen = int(.2*(dataLen - testLen))\n",
        "trainLen = dataLen - testLen - devLen\n",
        "\n",
        "train = []\n",
        "dev = []\n",
        "test =[]\n",
        "for i in range(trainLen):\n",
        "  train.append(data[i])\n",
        "\n",
        "for i in range(trainLen, trainLen+devLen):\n",
        "  dev.append(data[i])\n",
        "\n",
        "for i in range(dataLen-testLen, dataLen):\n",
        "  test.append(data[i])\n",
        "\n",
        "print(\"Train Data: %d items\" %(len(train)))\n",
        "print(\"Dev Data: %d items\" %(len(dev)))\n",
        "print(\"Test Data: %d items\" %(len(test)))"
      ],
      "execution_count": 394,
      "outputs": [
        {
          "output_type": "stream",
          "text": [
            "6710\n",
            "Train Data: 4295 items\n",
            "Dev Data: 1073 items\n",
            "Test Data: 1342 items\n"
          ],
          "name": "stdout"
        }
      ]
    },
    {
      "cell_type": "markdown",
      "metadata": {
        "id": "x0Lh-J39H3lS"
      },
      "source": [
        "# Training: Naive Bayes"
      ]
    },
    {
      "cell_type": "markdown",
      "metadata": {
        "id": "Q40n17H9fkPS"
      },
      "source": [
        "I will first try to buld a classifier based on Naive Bayes.\n",
        "\n",
        "**Naive Bayes** is a simple, fast, and accurate algorithm that works particularly well with natural language processing (NLP), or text classification. In my tests, I used the **Multinomial Naive Bayes** algorithm. It works by taking advantage of probability theory and Bayes' Theorem to classify text. For each piece of input text, the probability of each possible class is calculated and the final classification made based on highest probability."
      ]
    },
    {
      "cell_type": "markdown",
      "metadata": {
        "id": "LJ1Tj1tBe4az"
      },
      "source": [
        "The training set is split into two lists based on source."
      ]
    },
    {
      "cell_type": "code",
      "metadata": {
        "colab": {
          "base_uri": "https://localhost:8080/"
        },
        "id": "a9Ljw_8QEvy1",
        "outputId": "bc7ed7f6-0831-43be-cf48-293a3bf1c8f5"
      },
      "source": [
        "def split(data):\n",
        "  nprStr = []\n",
        "  xhStr = []\n",
        "  for i in range(len(data)):\n",
        "    if data[i][-1] == '1':\n",
        "      nprStr.append(data[i][0])\n",
        "    elif data[i][-1] == '0':\n",
        "      xhStr.append(data[i][0])\n",
        "  return nprStr, xhStr\n",
        "\n",
        "def printSample(nprStr, xhStr):\n",
        "  print(\"Xinhua Tweets: %d items\" %(len(xhStr)))\n",
        "  print(\"---------------Sample---------------\")\n",
        "  for i in range(5):\n",
        "    if(len(xhStr[i])>80):\n",
        "      print(\"%s...\" %xhStr[i][0:80])\n",
        "    else:\n",
        "      print(xhStr[i], end='')\n",
        "  print(\"\\n\")\n",
        "  print(\"NPR Tweets: %d items\" %(len(nprStr)))\n",
        "  print(\"---------------Sample---------------\")\n",
        "  for i in range(5):\n",
        "    if(len(nprStr[i])>80):\n",
        "      print(\"%s...\" %nprStr[i][0:80])\n",
        "    else:\n",
        "      print(nprStr[i], end='')\n",
        "\n",
        "nprStr, xhStr = split(train)\n",
        "printSample(nprStr, xhStr)"
      ],
      "execution_count": 395,
      "outputs": [
        {
          "output_type": "stream",
          "text": [
            "Xinhua Tweets: 3985 items\n",
            "---------------Sample---------------\n",
            "Ethnic groups in Xinjiang are part of Chinese nation: white paper xhne.ws/znLOe ...\n",
            "3. Panda recognition tech xhne.ws/oKuA9 https://t.co/gjVitH2EFX\"\n",
            "0Hong Kong immigration director vows to attract more talents xhne.ws/Zs4nP (Xinhu...\n",
            "Findings at the caves, dubbed \"gateway to heaven\", will fill the gap of Xinjiang...\n",
            "300-km-long desert road, crossing China's largest desert Taklimakan nicknamed \"S...\n",
            "\n",
            "\n",
            "NPR Tweets: 310 items\n",
            "---------------Sample---------------\n",
            "The association has been ordered to pay the equivalent of $15,000 and was given ...\n",
            "A Hong Kong district court has found nine activists guilty of public nuisance cr...\n",
            "Hong Kong has 110 McDonalds outlets that are open 24 hours, and they are relucta...\n",
            "Beijing Brushes Aside Hong Kongs Rejection Of Electoral Reform n.pr/1Bm1nz0\n",
            "1After bringing the number of local coronavirus cases down to zero, Hong Kong is ...\n"
          ],
          "name": "stdout"
        }
      ]
    },
    {
      "cell_type": "markdown",
      "metadata": {
        "id": "rs-ckUGRJ4Ls"
      },
      "source": [
        "The data lists are further processed into dictionaries of vocabularies. \n",
        "Each line in the lists was split into individual words and added to a temporary dictionary. This temporary dictionary was then trimmed to include only words that do not appear in the list of stopwords."
      ]
    },
    {
      "cell_type": "code",
      "metadata": {
        "colab": {
          "base_uri": "https://localhost:8080/"
        },
        "id": "AnnuiVkUK3DV",
        "outputId": "9bf82596-08f2-46ff-d472-bcb78eadafbd"
      },
      "source": [
        "import re\n",
        "\n",
        "#trainset vocab list + split into npr/xh\n",
        "def splitWord(strings, tempDict):\n",
        "  words = 0\n",
        "  for line in strings:\n",
        "    line = line.lower()\n",
        "    temp = re.findall(r'\\w+', line)\n",
        "    for word in temp:\n",
        "      words+=1\n",
        "      if word in tempDict:\n",
        "        tempDict[word] +=1\n",
        "      else:\n",
        "        tempDict[word] = 1\n",
        "\n",
        "def trim(strings, tempDict):\n",
        "  keys = list(tempDict.keys())\n",
        "  vals = list(tempDict.values())\n",
        "  newDict = dict()\n",
        "  count = 0\n",
        "  for i in range(len(vals)):\n",
        "    k = keys[i]\n",
        "    if k not in stopwords and k in words:\n",
        "      newDict[k] = vals[i]\n",
        "      count+=vals[i]\n",
        "  return newDict, count\n",
        "\n",
        "def makeVocab(strings):\n",
        "  tempDict = dict()\n",
        "  splitWord(strings, tempDict)\n",
        "  newDict, count = trim(strings, tempDict)\n",
        "  return newDict, count\n",
        "\n",
        "print(\"---------------Xinhua Word List---------------\")\n",
        "xhVocab, xhCount = makeVocab(xhStr)\n",
        "print(\"Words After Trimming: \", xhCount)\n",
        "print(\"Unique Words: %d\\n\" %len(xhVocab))\n",
        "\n",
        "print(\"---------------NPR Word List---------------\")\n",
        "nprVocab, nprCount = makeVocab(nprStr)\n",
        "print(\"Words After Trimming: \", nprCount)\n",
        "print(\"Unique Words: %d\\n\" %len(nprVocab))\n",
        "\n",
        "print(\"---------------All Words---------------\")\n",
        "allVocab = {**nprVocab, **xhVocab}\n",
        "allCount = nprCount+xhCount\n",
        "print(\"Total Word Count: \", allCount)\n",
        "print(\"Unique Words: \", len(allVocab))\n",
        "\n",
        "# print(\"Positive:\", nprVocab)\n",
        "# print(\"Negative:\", xhVocab)\n",
        "# print(\"All:\", allVocab)  "
      ],
      "execution_count": 396,
      "outputs": [
        {
          "output_type": "stream",
          "text": [
            "---------------Xinhua Word List---------------\n",
            "Words After Trimming:  32761\n",
            "Unique Words: 4532\n",
            "\n",
            "---------------NPR Word List---------------\n",
            "Words After Trimming:  2541\n",
            "Unique Words: 1046\n",
            "\n",
            "---------------All Words---------------\n",
            "Total Word Count:  35302\n",
            "Unique Words:  4759\n"
          ],
          "name": "stdout"
        }
      ]
    },
    {
      "cell_type": "markdown",
      "metadata": {
        "id": "5IXl4rFhBcS6"
      },
      "source": [
        "P(xh) and P(npr) were calculated by dividing the count of each by the total (trimmed) word count.\n",
        "\n",
        "Individual P(word|author) were calculated using (#word in class)/(#total word count in sentiment class). A general P(word) was also calculated using (#word/#total word count). All three were stored in new dictionaries."
      ]
    },
    {
      "cell_type": "markdown",
      "metadata": {
        "id": "JN6f3qdokziO"
      },
      "source": [
        "In addition, one major issue that Naive Bayes faces in text classification is missing data. When a word does not appear in a class, making P(word|class) = 0, that probability gets multiplied out to all the other probabilities in determining P(class), making P(class) = 0.\n",
        "\n",
        "Laplace smoothing is a method of combatting this issue. The process is:\n",
        "1.   Add 1 to every count so P(word|class) will always > 0.\n",
        "2.   Balance this by adding the number of possible words to the divisor so the result will never < 1.\n"
      ]
    },
    {
      "cell_type": "code",
      "metadata": {
        "colab": {
          "base_uri": "https://localhost:8080/"
        },
        "id": "p5Jx9GQf_pfE",
        "outputId": "4e8aa35a-295d-4282-dee5-b19e9548cdcd"
      },
      "source": [
        "#get probabilities for P(npr), P(xh) based on trimmed word counts\n",
        "allCount = nprCount+xhCount\n",
        "print(\"---------------Probabilities---------------\")\n",
        "print(\"P(npr) = %d/%d = %.5f\" %(nprCount, allCount, nprCount/allCount))\n",
        "print(\"P(xh) = %d/%d = %.5f\\n\" %(xhCount, allCount, xhCount/allCount))\n",
        "\n",
        "##laplace smoothing\n",
        "nprCount+=len(allVocab)\n",
        "xhCount+=len(allVocab)\n",
        "allCount = nprCount+xhCount\n",
        "#for test words of P=0\n",
        "noNPR = 1/nprCount\n",
        "noXH = 1/xhCount\n",
        "\n",
        "#get individual P(word|class) and store in dictionary\n",
        "def getProbs(Dict, PCount):\n",
        "  keys = list(Dict.keys())\n",
        "  vals = list(Dict.values())\n",
        "  newDict = dict()\n",
        "  for i in range(len(vals)):\n",
        "    k = keys[i]\n",
        "    p = vals[i]/PCount\n",
        "    newDict[k] = p\n",
        "  return newDict\n",
        "\n",
        "nprProb = getProbs(nprVocab, nprCount)\n",
        "xhProb = getProbs(xhVocab, xhCount)\n",
        "allProb = getProbs(allVocab, allCount)\n",
        "\n",
        "print(\"---------------P(word) Sample---------------\")\n",
        "print({k: allProb[k] for k in list(allProb)[:5]}, \"\\n\")\n",
        "\n",
        "print(\"---------------P(word|npr) Sample---------------\")\n",
        "print({k: nprProb[k] for k in list(nprProb)[:5]}, \"\\n\")\n",
        "\n",
        "print(\"---------------P(word|xh) Sample---------------\")\n",
        "print({k: xhProb[k] for k in list(xhProb)[:5]})"
      ],
      "execution_count": 397,
      "outputs": [
        {
          "output_type": "stream",
          "text": [
            "---------------Probabilities---------------\n",
            "P(npr) = 2541/35302 = 0.07198\n",
            "P(xh) = 32761/35302 = 0.92802\n",
            "\n",
            "---------------P(word) Sample---------------\n",
            "{'association': 0.00015618027666220436, 'ordered': 2.2311468094600625e-05, 'pay': 2.2311468094600625e-05, 'equivalent': 2.2311468094600625e-05, 'given': 0.00015618027666220436} \n",
            "\n",
            "---------------P(word|npr) Sample---------------\n",
            "{'association': 0.000273972602739726, 'ordered': 0.000136986301369863, 'pay': 0.000136986301369863, 'equivalent': 0.000136986301369863, 'given': 0.00041095890410958907} \n",
            "\n",
            "---------------P(word|xh) Sample---------------\n",
            "{'ethnic': 0.0010394456289978678, 'part': 0.0008528784648187633, 'nation': 0.0002398720682302772, 'white': 0.0013326226012793177, 'paper': 0.0012260127931769723}\n"
          ],
          "name": "stdout"
        }
      ]
    },
    {
      "cell_type": "markdown",
      "metadata": {
        "id": "RATcYep5RsAj"
      },
      "source": [
        "# Testing Model with Dev Set"
      ]
    },
    {
      "cell_type": "markdown",
      "metadata": {
        "id": "e4pgHOKOxT7s"
      },
      "source": [
        "First, just applying the algorithm directing to the dev set:\n"
      ]
    },
    {
      "cell_type": "code",
      "metadata": {
        "colab": {
          "base_uri": "https://localhost:8080/"
        },
        "id": "tQIA7MWhbNDc",
        "outputId": "21df10fe-b29c-4080-e6ce-048af99f4167"
      },
      "source": [
        "def splitTrim(line):\n",
        "  words = []\n",
        "  temp = re.findall(r'\\w+', line)\n",
        "  for i in temp:\n",
        "    if len(i)>2:\n",
        "      words.append(i)\n",
        "  #print(words)\n",
        "  return words\n",
        "\n",
        "#with Laplace smoothing\n",
        "def naiveBayes(line, vocab0, vocab1):\n",
        "  words = splitTrim(line)\n",
        "  p_npr = 1\n",
        "  p_xh = 1\n",
        "  for word in words:\n",
        "    if word in vocab1:\n",
        "      p_npr = nprProb[word]*p_npr\n",
        "    else:\n",
        "      p_npr = p_npr*noNPR\n",
        "    if word in vocab0:\n",
        "      p_xh = xhProb[word]*p_xh\n",
        "    else:\n",
        "      p_xh = p_xh*noXH\n",
        "  if p_npr < p_xh:\n",
        "    pred = 0\n",
        "  elif p_npr > p_xh:\n",
        "    pred = 1\n",
        "  else:\n",
        "    return 2\n",
        "  return pred\n",
        "\n",
        "def predict(data, algorithm=naiveBayes, vocab0=xhVocab, vocab1=nprVocab):\n",
        "  correct = 0\n",
        "  total = 0\n",
        "  for line in data:\n",
        "    actual = int(line[-1])\n",
        "    pred = algorithm(line[0], vocab0, vocab1)\n",
        "    #print(\"Test: \",pred, actual)\n",
        "    if pred == actual:\n",
        "      correct+=1\n",
        "      total+=1\n",
        "    else:\n",
        "      total+=1\n",
        "  acc = correct/total\n",
        "  return acc, correct, total\n",
        "\n",
        "acc, correct, total = predict(dev)\n",
        "acc = acc*100\n",
        "print(\"Accuracy: %.3f \" %acc, \"%\")\n",
        "\n",
        "X.append(\"Dev\")\n",
        "y.append(acc)"
      ],
      "execution_count": 398,
      "outputs": [
        {
          "output_type": "stream",
          "text": [
            "Accuracy: 9.413  %\n"
          ],
          "name": "stdout"
        }
      ]
    },
    {
      "cell_type": "markdown",
      "metadata": {
        "id": "9JNu39gE0p_6"
      },
      "source": [
        "**Five-Fold Cross Validation**\n",
        "\n",
        "This tests the algorithm using cross validation. The process is as follows:\n",
        "1.   Split the data into 5 groups\n",
        "2.   For each group, use it as a test set with the remaining groups as training sets\n",
        "3.   Fit a model on the training set and evaluate on the test set\n",
        "4.   Repeat the above until all samples have had a turn as a test set\n",
        "5.   Find the mean accuracy"
      ]
    },
    {
      "cell_type": "code",
      "metadata": {
        "colab": {
          "base_uri": "https://localhost:8080/"
        },
        "id": "Iei0O6RSdMG6",
        "outputId": "80db3220-ba79-4ac0-948f-4aa87f85cc9e"
      },
      "source": [
        "#split dataset into 5 folds\n",
        "def crossValsplit(dataset):\n",
        "  folds = 5\n",
        "  data_split = list()\n",
        "  data_copy = list(dataset)\n",
        "  fold_size = int(len(dataset)/folds)\n",
        "  for i in range(folds):\n",
        "    fold = list()\n",
        "    while len(fold) < fold_size:\n",
        "      index = randrange(len(data_copy))\n",
        "      fold.append(data_copy.pop(index))\n",
        "    data_split.append(fold)\n",
        "  return data_split\n",
        "\n",
        "def evaluate(data):\n",
        "  folds = crossValsplit(data)\n",
        "  scores = list()\n",
        "  for fold in folds:\n",
        "    train = list(folds)\n",
        "    train.remove(fold)\n",
        "    train = sum(train, [])\n",
        "    test = list()\n",
        "    for row in fold:\n",
        "      test.append(row)\n",
        "    #create new dictionaries based on fold\n",
        "    x_nprStr, x_xhStr = split(train)\n",
        "    x_nprVocab, x_nprCount = makeVocab(x_nprStr)\n",
        "    x_xhVocab, x_xhCount = makeVocab(x_xhStr)\n",
        "    x_allVocab = {**x_nprVocab, **x_xhVocab}\n",
        "    x_allCount = x_nprCount+x_xhCount\n",
        "    x_nprProb = getProbs(x_nprVocab, x_nprCount)\n",
        "    x_xhProb = getProbs(x_xhVocab, x_xhCount)\n",
        "    x_allProb = getProbs(x_allVocab, x_allCount)\n",
        "    acc, correct, total = predict(test)\n",
        "    acc = acc*100\n",
        "    scores.append(acc)\n",
        "  print(\"Scores: %s\" %scores)\n",
        "  mean = sum(scores)/float(len(scores))\n",
        "  print('Mean Accuracy: %.3f%%' %mean)\n",
        "    \n",
        "mean = evaluate(dev)\n",
        "\n",
        "X.append(\"X-valid\")\n",
        "y.append(mean)"
      ],
      "execution_count": 399,
      "outputs": [
        {
          "output_type": "stream",
          "text": [
            "Scores: [9.813084112149532, 7.476635514018691, 14.018691588785046, 7.943925233644859, 7.943925233644859]\n",
            "Mean Accuracy: 9.439%\n"
          ],
          "name": "stdout"
        }
      ]
    },
    {
      "cell_type": "markdown",
      "metadata": {
        "id": "b_T-sz805d3n"
      },
      "source": [
        "Even with Laplace smoothing, the algorithm is not very accurate, on either the cross-validation or applied directly to the dev data. \n"
      ]
    },
    {
      "cell_type": "markdown",
      "metadata": {
        "id": "eVOgzdecE6ZB"
      },
      "source": [
        "# Experiments"
      ]
    },
    {
      "cell_type": "markdown",
      "metadata": {
        "id": "uwQgG6ct5s9p"
      },
      "source": [
        "I will start approaching this problem from a few different directions."
      ]
    },
    {
      "cell_type": "markdown",
      "metadata": {
        "id": "TWFHBiBE5wQv"
      },
      "source": [
        "First, instead of a pure \"yes/no\" comparison, I want to see how the classifier and training data do in predicting P(class)."
      ]
    },
    {
      "cell_type": "markdown",
      "metadata": {
        "id": "C0LHhJLe6eqw"
      },
      "source": [
        "Loading a new dataset of only Xinhua data and leaving it unlabelled."
      ]
    },
    {
      "cell_type": "code",
      "metadata": {
        "colab": {
          "base_uri": "https://localhost:8080/"
        },
        "id": "fzN2rCZT6N2W",
        "outputId": "17a7350c-76ca-4b77-dd99-2cd2e1351d5b"
      },
      "source": [
        "newData = []\n",
        "\n",
        "with open(\"tweets_xh_hk.txt\", 'r') as f:\n",
        "    for row in f:\n",
        "      newData.append(row)\n",
        "\n",
        "for i in range(5):\n",
        "  print(newData[i][0:80], \"...\")"
      ],
      "execution_count": 400,
      "outputs": [
        {
          "output_type": "stream",
          "text": [
            "The 2020 policy address delivered by HKSAR Chief Executive Carrie Lam has won st ...\n",
            "The national security law in China's Hong Kong has been remarkably effective in  ...\n",
            "Hong Kong embraces greater development opportunities with new policy address unv ...\n",
            "HKSAR Chief Executive Carrie Lam delivered the 2020 policy address, highlighting ...\n",
            "The central authorities will fully support Hong Kong's development in 7 aspects  ...\n"
          ],
          "name": "stdout"
        }
      ]
    },
    {
      "cell_type": "markdown",
      "metadata": {
        "id": "xWb7r9CGMXAi"
      },
      "source": [
        "Adjusting the Naive Bayes method to return P(class) instead of a prediction and taking the mean probability of each class."
      ]
    },
    {
      "cell_type": "code",
      "metadata": {
        "colab": {
          "base_uri": "https://localhost:8080/"
        },
        "id": "PaZGNKJ37-Ju",
        "outputId": "5e8afc1e-b29e-4326-f9e1-3ade10129ca2"
      },
      "source": [
        "import numpy as np\n",
        "\n",
        "#with Laplace smoothing\n",
        "def naiveBayesPoss(line, vocab0, vocab1):\n",
        "  words = splitTrim(line)\n",
        "  #print(words)\n",
        "  p_npr = 1\n",
        "  p_xh = 1\n",
        "  for word in words:\n",
        "    if word in vocab1:\n",
        "      p_npr = nprProb[word]*p_npr\n",
        "    else:\n",
        "      p_npr = p_npr*noNPR\n",
        "    if word in vocab0:\n",
        "      p_xh = xhProb[word]*p_xh\n",
        "    else:\n",
        "      p_xh = p_xh*noXH\n",
        "  return p_npr, p_xh\n",
        "\n",
        "def predictPoss(data, vocab0=xhVocab, vocab1=nprVocab):\n",
        "  arrNPR = []\n",
        "  arrXH = []\n",
        "  for line in data:\n",
        "    #print(line)\n",
        "    predNPR, predXH = naiveBayesPoss(line, vocab0, vocab1)\n",
        "    arrNPR.append(predNPR)\n",
        "    arrXH.append(predXH)\n",
        "    #print(\"Test: \",pred, actual)\n",
        "  possNPR = np.mean(arrNPR)\n",
        "  possXH = np.mean(arrXH)\n",
        "  return possNPR, possXH\n",
        "\n",
        "possNPR, possXH = predictPoss(newData)\n",
        "print('Mean possXH: %.3f%%' %possXH)\n",
        "print('Mean possNPR: %.3f%%' %possNPR)\n",
        "\n",
        "X.append(\"Mean\\nP(class)\")\n",
        "y.append(possXH)"
      ],
      "execution_count": 401,
      "outputs": [
        {
          "output_type": "stream",
          "text": [
            "Mean possXH: 0.002%\n",
            "Mean possNPR: 0.002%\n"
          ],
          "name": "stdout"
        }
      ]
    },
    {
      "cell_type": "markdown",
      "metadata": {
        "id": "rMFWNWMMLr_6"
      },
      "source": [
        "Given that the data used in the experiment above *only* came from Xinhua, the mean P(class) should have been much higher than it is, or at least higher than possNPR."
      ]
    },
    {
      "cell_type": "markdown",
      "metadata": {
        "id": "MPSZb_q_OBO7"
      },
      "source": [
        "**Top Words**\n",
        "\n",
        "Next, I will derive the top 10 words for predicting class, ie. the top 10 each of P(Positive|word) and P(Negative|word). Given that:\n",
        "\n",
        "$P(class|word)=\\frac{P(word|class)P(class)}{P(word)}$\n",
        "\n",
        "and I already have the values for P(word), P(class), and P(word|class), this will be a simple matter of finding the top 10 values."
      ]
    },
    {
      "cell_type": "code",
      "metadata": {
        "colab": {
          "base_uri": "https://localhost:8080/"
        },
        "id": "p8Odg-WUod2G",
        "outputId": "2b8d382e-ab2b-4e7c-affa-8c69d889f274"
      },
      "source": [
        "\"\"\"\n",
        "Find the top ten P(class|word) for each class\n",
        "\"\"\"\n",
        "def topTen(classDict, classCount):\n",
        "  words = []\n",
        "  probs = []\n",
        "  #keys = word, vals = P(word|class)\n",
        "  keys = list(classDict.keys())\n",
        "  vals = list(classDict.values())\n",
        "  pClass = classCount/allCount\n",
        "  for i in range(len(keys)):\n",
        "    pWord = allProb[(keys[i])]\n",
        "    p = (vals[i]*pClass)/pWord\n",
        "    words.append(keys[i])\n",
        "    probs.append(p)\n",
        "  top = sorted(range(len(probs)), key=lambda i: probs[i])[-10:]\n",
        "  topWords = []\n",
        "  for i in top:\n",
        "    topWords.append(words[i])\n",
        "  return topWords\n",
        "\n",
        "topNPR = topTen(nprProb, nprCount)\n",
        "topXH = topTen(xhProb, xhCount)\n",
        "\n",
        "print(\"Top NPR Words:\")\n",
        "print(topNPR)\n",
        "print(\"\\nTop XH Words:\")\n",
        "print(topXH)\n",
        "\n",
        "acc, correct, total = predict(data, algorithm=naiveBayes, vocab0=topXH, vocab1=topNPR)\n",
        "acc = acc*100\n",
        "print(\"\\nAccuracy, Top10 Words: %.3f%%\" %acc)\n",
        "\n",
        "X.append(\"Top10\")\n",
        "y.append(acc)"
      ],
      "execution_count": 402,
      "outputs": [
        {
          "output_type": "stream",
          "text": [
            "Top NPR Words:\n",
            "['whose', 'enemy', 'withdraw', 'remarkably', 'shut', 'strike', 'tear', 'extradition', 'pro', 'n']\n",
            "\n",
            "Top XH Words:\n",
            "['struck', 'heart', 'migrant', 'properly', 'policeman', 'afternoon', 'bloom', 'therapy', 'low', 'battle']\n",
            "\n",
            "Accuracy, Top10 Words: 7.481%\n"
          ],
          "name": "stdout"
        }
      ]
    },
    {
      "cell_type": "markdown",
      "metadata": {
        "id": "sPUJQHAdug4L"
      },
      "source": [
        "Changing the parameters to top 10 words only decreased accuracy."
      ]
    },
    {
      "cell_type": "code",
      "metadata": {
        "colab": {
          "base_uri": "https://localhost:8080/",
          "height": 307
        },
        "id": "eTuVpwl7OBny",
        "outputId": "6a141bbe-81b4-436b-9b9f-038a2d108dc1"
      },
      "source": [
        "import matplotlib.pyplot as plt\n",
        "\n",
        "y[1] = 9.439\n",
        "\n",
        "plt.title(\"Prediction Accuracy\")\n",
        "plt.ylim(0,100)\n",
        "plt.xlabel(\"Method\")\n",
        "plt.ylabel(\"%Accuracy\")\n",
        "plt.bar(X,y)\n",
        "plt.show()"
      ],
      "execution_count": 415,
      "outputs": [
        {
          "output_type": "display_data",
          "data": {
            "image/png": "[encoded data removed]",
            "text/plain": [
              "<Figure size 432x288 with 1 Axes>"
            ]
          },
          "metadata": {
            "tags": [],
            "needs_background": "light"
          }
        }
      ]
    },
    {
      "cell_type": "markdown",
      "metadata": {
        "id": "So456YJMm68r"
      },
      "source": [
        "# Analysis: Naive Bayes"
      ]
    },
    {
      "cell_type": "markdown",
      "metadata": {
        "id": "VfFAfxGncs6s"
      },
      "source": [
        "None of these methods are very strong. Clearly, this dataset is very different from something like a dataset of movie reviews. Even though the general idea is similar (movie reviews using \"positive\" and \"negative\" words to find sentiment), using the same methods yields very different results.\n",
        "\n",
        "Why is this? The most likely reason is that with this dataset, the end target is finding **authorship**. Authorship is much more than expressing one kind of sentiment; it is the analysis of how **all** ideas are expressed. Even though NPR and Xinhua"
      ]
    },
    {
      "cell_type": "markdown",
      "metadata": {
        "id": "m6zaqL15fxDQ"
      },
      "source": [
        "# Experiments: Stylometric Methods"
      ]
    },
    {
      "cell_type": "markdown",
      "metadata": {
        "id": "Newu4KYLfzKq"
      },
      "source": [
        "Given the general failure of Naive Bayes, I will now try other methods to train and test a classifier."
      ]
    },
    {
      "cell_type": "markdown",
      "metadata": {
        "id": "H2pi3l87f-_y"
      },
      "source": [
        "**Stylometry** is the application of the study of linguistic style, often used to determine authorship of unknown documents. Perhaps one of the most common applications of this in machine learning has been in determining authorship of the *Federalist Papers*. With these methods, one key difference is the consideration of how words, including those usually considered irrelevant such as prepositions and articles, are stringed together. Unlike with Naive Bayes, order and use matter, and also unlike Naive Bayes, it applies much more to this current experiment as it specifically works to identify individual authors and writing styles-- much like how a news outlet like Xinhua or NPR would have their own reporting styles, or style guides their reporters would be expected to follow."
      ]
    },
    {
      "cell_type": "markdown",
      "metadata": {
        "id": "WYrwDF11jQK7"
      },
      "source": [
        "First, creating new dictionaries with author as keys and tweets in their *entirety* as the value. This time, I will use the file hktwmaco.txt, a compilation of headlines and partial article content from the official Xinhua News web site as a test subject."
      ]
    },
    {
      "cell_type": "code",
      "metadata": {
        "id": "M-3ZEgX0hELe"
      },
      "source": [
        "import nltk\n",
        "\n",
        "tweets_by_source = dict()\n",
        "\n",
        "def read_files_into_string(filename):\n",
        "    strings = []\n",
        "    with open(filename) as f:\n",
        "            strings.append(f.read())\n",
        "    return '\\n'.join(strings)\n",
        "\n",
        "\n",
        "tweets_by_source[\"Xinhua\"] = read_files_into_string(\"tweets_xh_all.txt\")\n",
        "tweets_by_source[\"NPR\"] = read_files_into_string(\"tweets_npr_all.txt\")\n",
        "tweets_by_source[\"Test\"] = read_files_into_string(\"hktwmacao.txt\")"
      ],
      "execution_count": 442,
      "outputs": []
    },
    {
      "cell_type": "markdown",
      "metadata": {
        "id": "nuheWFsgmMt6"
      },
      "source": [
        "The first test I will try is known as **Mendenhall's Characteristic Curves of Composition**, one of the first ever stylometric tests developed in the 1800s. This works by associating an author's stylistic signature with how often they used words of different lengths. That is to say, for any particular author X, if we look at something they write, we can expect to find the same general distribution of word lengths no matter where we look."
      ]
    },
    {
      "cell_type": "code",
      "metadata": {
        "id": "E-v340r5lgaR"
      },
      "source": [
        "nltk.download('punkt')"
      ],
      "execution_count": null,
      "outputs": []
    },
    {
      "cell_type": "code",
      "metadata": {
        "colab": {
          "base_uri": "https://localhost:8080/",
          "height": 860
        },
        "id": "YyTkf4Jtkngo",
        "outputId": "86de4b35-fb9c-4257-af27-c664c6c1cb2f"
      },
      "source": [
        "#compare the test text with the known sources\n",
        "sources = (\"NPR\", \"Xinhua\", \"Test\")\n",
        "\n",
        "#transform texts into tokens\n",
        "\n",
        "def mendenhall(sources):\n",
        "  tweets_by_source_tokens = {}\n",
        "  tweets_by_source_length_distributions = {}\n",
        "  for source in sources:\n",
        "    tokens = nltk.word_tokenize(tweets_by_source[source])\n",
        "\n",
        "    #take out punctuation\n",
        "    tweets_by_source_tokens[source] = ([token for token in tokens\n",
        "                                            if any(c.isalpha() for c in token)])\n",
        "\n",
        "    #get distribution of word lengths, creating a frequency distribution of how many n-letter words\n",
        "    #there are in that particular author's body of text\n",
        "    token_lengths = [len(token) for token in tweets_by_source_tokens[source]]\n",
        "    tweets_by_source_length_distributions[source] = nltk.FreqDist(token_lengths)\n",
        "    tweets_by_source_length_distributions[source].plot(15,title=source)\n",
        "\n",
        "mendenhall(sources)"
      ],
      "execution_count": 456,
      "outputs": [
        {
          "output_type": "display_data",
          "data": {
            "image/png": "[encoded data removed]",
            "text/plain": [
              "<Figure size 432x288 with 1 Axes>"
            ]
          },
          "metadata": {
            "tags": [],
            "needs_background": "light"
          }
        },
        {
          "output_type": "display_data",
          "data": {
            "image/png": "[encoded data removed]",
            "text/plain": [
              "<Figure size 432x288 with 1 Axes>"
            ]
          },
          "metadata": {
            "tags": [],
            "needs_background": "light"
          }
        },
        {
          "output_type": "display_data",
          "data": {
            "image/png": "[encoded data removed]",
            "text/plain": [
              "<Figure size 432x288 with 1 Axes>"
            ]
          },
          "metadata": {
            "tags": [],
            "needs_background": "light"
          }
        }
      ]
    },
    {
      "cell_type": "markdown",
      "metadata": {
        "id": "GiZdEzpyqBZA"
      },
      "source": [
        "In the graphs above, the x-axis represents the word length (3 letters, 5 letters, etc.) and the y-axis shows how many of each word there is in the text. The test sample *looks* most like the Xinhua sample (which would be correct), but also, this is an incredibly brute-force and blunt way by which to try to classify the text; not the most effective."
      ]
    },
    {
      "cell_type": "markdown",
      "metadata": {
        "id": "7vCuSRYhpN0g"
      },
      "source": [
        "For something that is much more modern (and accurate), I will use the Delta method by Australian literary scholar John F. Burrows. This method measures the \"distance\" between texts, coming up with a final Delta measure of how much a given unknown text and set of known texts by any number of authors diverage from the average of all of them together. In other words, the lower a Delta measure, the more similar the text.\n"
      ]
    },
    {
      "cell_type": "markdown",
      "metadata": {
        "id": "_0EbZp_ztiCg"
      },
      "source": [
        "The Delta method works as follows:\n"
      ]
    },
    {
      "cell_type": "markdown",
      "metadata": {
        "id": "Ho_-3HF0xzmG"
      },
      "source": [
        "1. Find the N most frequent words in a corpus (collection) of texts written by X number of authors.\n"
      ]
    },
    {
      "cell_type": "code",
      "metadata": {
        "colab": {
          "base_uri": "https://localhost:8080/"
        },
        "id": "kPuJkk_8rY3X",
        "outputId": "df946c99-caf6-4fb0-904b-d1723b506b8f"
      },
      "source": [
        "sources = (\"NPR\", \"Xinhua\", \"Test\")\n",
        "\n",
        "for source in sources:\n",
        "    tweets_by_source_tokens[source] = (\n",
        "        [tok.lower() for tok in tweets_by_source_tokens[source]])\n",
        "\n",
        "# combine all texts except test into a single corpus\n",
        "whole_corpus = []\n",
        "for source in sources:\n",
        "    whole_corpus += tweets_by_source_tokens[source]\n",
        "\n",
        "# frequency distribution where N=10\n",
        "whole_corpus_freq_dist = list(nltk.FreqDist(whole_corpus).most_common(30))\n",
        "whole_corpus_freq_dist[ :10 ]"
      ],
      "execution_count": 458,
      "outputs": [
        {
          "output_type": "execute_result",
          "data": {
            "text/plain": [
              "[('the', 13589),\n",
              " ('of', 7673),\n",
              " ('in', 6676),\n",
              " ('to', 6123),\n",
              " ('and', 6063),\n",
              " ('hong', 5275),\n",
              " ('kong', 5131),\n",
              " ('https', 4625),\n",
              " (\"'s\", 3886),\n",
              " ('a', 3480)]"
            ]
          },
          "metadata": {
            "tags": []
          },
          "execution_count": 458
        }
      ]
    },
    {
      "cell_type": "markdown",
      "metadata": {
        "id": "1fiulubnx3C0"
      },
      "source": [
        "2. For each of these N most frequent words, calculate the percentage of its appearance in each known author X's subcorpus-- for example, 5% of all the words in author A's text is the word \"they\". In this way, the Delta method is similar to the Naive Bayes approach.\n",
        "3. Calculate the mean and standard deviation of these percentages and use them as the mean and standard deviation for each given word over the entire collection of texts.\n",
        "4. For each word, calculate a Z-score representing how far from the corpus norm that word's usage is in a particular subtext, as seen in this equation, where C is the observed frequency of a particular word \"i\". $Z_i = \\frac{C_i-\\mu_i}{\\delta_i}$\n",
        "5. Perform this calculation for each word in all the known and unkown texts."
      ]
    },
    {
      "cell_type": "code",
      "metadata": {
        "colab": {
          "base_uri": "https://localhost:8080/"
        },
        "id": "9XNdpqSEr64m",
        "outputId": "a4b90996-a0eb-4eea-806a-ce18765a72e1"
      },
      "source": [
        "features = [word for word,freq in whole_corpus_freq_dist]\n",
        "feature_freqs = {}\n",
        "\n",
        "for source in sources:\n",
        "    #dictionary of words for each source\n",
        "    feature_freqs[source] = {}\n",
        "\n",
        "    overall = len(tweets_by_source_tokens[source])\n",
        "\n",
        "    #count of each feature in subtext\n",
        "    for feature in features:\n",
        "        presence = tweets_by_source_tokens[source].count(feature)\n",
        "        feature_freqs[source][feature] = presence / overall\n",
        "\n",
        "import math\n",
        "\n",
        "corpus_features = {}\n",
        "\n",
        "for feature in features:\n",
        "    #subdictionary of each feature's mean and stdev\n",
        "    corpus_features[feature] = {}\n",
        "\n",
        "    #mean of the frequencies\n",
        "    feature_average = 0\n",
        "    for source in sources:\n",
        "        feature_average += feature_freqs[source][feature]\n",
        "    feature_average /= len(sources)\n",
        "    corpus_features[feature][\"Mean\"] = feature_average\n",
        "\n",
        "    #standard deviation\n",
        "    feature_stdev = 0\n",
        "    for source in sources:\n",
        "        diff = feature_freqs[source][feature] - corpus_features[feature][\"Mean\"]\n",
        "        feature_stdev += diff*diff\n",
        "    feature_stdev /= (len(sources) - 1)\n",
        "    feature_stdev = math.sqrt(feature_stdev)\n",
        "    corpus_features[feature][\"StdDev\"] = feature_stdev\n",
        "\n",
        "feature_zscores = {}\n",
        "for source in sources:\n",
        "    feature_zscores[source] = {}\n",
        "    for feature in features:\n",
        "\n",
        "        # Z-score definition = (value - mean) / stddev\n",
        "        feature_val = feature_freqs[source][feature]\n",
        "        feature_mean = corpus_features[feature][\"Mean\"]\n",
        "        feature_stdev = corpus_features[feature][\"StdDev\"]\n",
        "        feature_zscores[source][feature] = ((feature_val-feature_mean) /\n",
        "                                            feature_stdev)\n",
        "        \n",
        "#tokenize the test case\n",
        "testcase_tokens = nltk.word_tokenize(tweets_by_source[\"Test\"])\n",
        "\n",
        "testcase_tokens = [token.lower() for token in testcase_tokens\n",
        "                   if any(c.isalpha() for c in token)]\n",
        "\n",
        "#test case's features\n",
        "overall = len(testcase_tokens)\n",
        "testcase_freqs = {}\n",
        "for feature in features:\n",
        "    presence = testcase_tokens.count(feature)\n",
        "    testcase_freqs[feature] = presence / overall\n",
        "\n",
        "#test case's feature z-scores\n",
        "print(\"----------Z-scores----------\")\n",
        "testcase_zscores = {}\n",
        "for feature in features:\n",
        "    feature_val = testcase_freqs[feature]\n",
        "    feature_mean = corpus_features[feature][\"Mean\"]\n",
        "    feature_stdev = corpus_features[feature][\"StdDev\"]\n",
        "    testcase_zscores[feature] = (feature_val - feature_mean) / feature_stdev\n",
        "    print(\"[\",feature,\"]:\", testcase_zscores[feature])\n"
      ],
      "execution_count": 455,
      "outputs": [
        {
          "output_type": "stream",
          "text": [
            "----------Z-scores----------\n",
            "[ the ]: 1.1490522290859977\n",
            "[ of ]: 1.153231064747455\n",
            "[ in ]: -1.0874022789189166\n",
            "[ to ]: 0.5221532740284536\n",
            "[ and ]: 1.1451173148793503\n",
            "[ hong ]: -0.5699099928584107\n",
            "[ kong ]: -0.5415745064303736\n",
            "[ https ]: -0.6604798660810742\n",
            "[ 's ]: 0.09102959322000043\n",
            "[ a ]: -0.672383847232734\n",
            "[ china ]: -0.9731768271212423\n",
            "[ on ]: 0.6533646394073037\n",
            "[ for ]: 1.0772247673222888\n",
            "[ xinjiang ]: -0.6307490262307903\n",
            "[ taiwan ]: -1.1412736838910391\n",
            "[ by ]: 1.1412662661017425\n",
            "[ said ]: 1.1498500357094348\n",
            "[ is ]: -0.7309598461681048\n",
            "[ with ]: -0.04673177804875599\n",
            "[ hksar ]: 1.1172169980462643\n",
            "[ that ]: 0.6472966249533051\n",
            "[ as ]: 0.20228435537302505\n",
            "[ from ]: -0.062294545864831546\n",
            "[ has ]: -0.551672912603498\n",
            "[ people ]: 0.9894204468081397\n",
            "[ chinese ]: -1.1173901183818555\n",
            "[ government ]: 1.1448573500536892\n",
            "[ will ]: 1.0875219609530289\n",
            "[ at ]: -0.6222178681958126\n",
            "[ mainland ]: -0.057904627543555486\n"
          ],
          "name": "stdout"
        }
      ]
    },
    {
      "cell_type": "markdown",
      "metadata": {
        "id": "RaXUhyDqyYaO"
      },
      "source": [
        "6. Calculate a delta score that is the average of the absolute values of all differences between the Z-scores of each word between the unknown text \"Y\" and a given author \"X\"'s texts. $\\Delta_x = \\sum_{i}^{}\\frac{\\left |Z_{x(i)}-Z_{y(i)}  \\right |}{n}$ The lower the Delta score, the more similar the text."
      ]
    },
    {
      "cell_type": "code",
      "metadata": {
        "colab": {
          "base_uri": "https://localhost:8080/"
        },
        "id": "aV1BHbcVsgdG",
        "outputId": "3ed6b052-187e-413b-aca0-afb6ec274bdd"
      },
      "source": [
        "print(\"--------Delta Scores--------\")\n",
        "for source in sources:\n",
        "    delta = 0\n",
        "    for feature in features:\n",
        "        delta += math.fabs((testcase_zscores[feature] -\n",
        "                            feature_zscores[source][feature]))\n",
        "    delta /= len(features)\n",
        "    print(\"%s:\"%source, delta )"
      ],
      "execution_count": 450,
      "outputs": [
        {
          "output_type": "stream",
          "text": [
            "NPR: 1.3842648935840516\n",
            "Xinhua: 1.1916270157432518\n",
            "Test: 0.0\n"
          ],
          "name": "stdout"
        }
      ]
    },
    {
      "cell_type": "markdown",
      "metadata": {
        "id": "PZOnhQD9ysC2"
      },
      "source": [
        "The test case used for the above was, in fact, the \"Test\" text-- therefore, its Delta score was and should be 0. After that, Xinhua News had a lower Delta score than NPR, which is correct; the test case was written by Xinhua News."
      ]
    },
    {
      "cell_type": "markdown",
      "metadata": {
        "id": "aYg5bqyjlYLS"
      },
      "source": [
        "# Analysis: Stylometric Methods"
      ]
    },
    {
      "cell_type": "markdown",
      "metadata": {
        "id": "SqnXPwTQy94c"
      },
      "source": [
        "There are many similarities between the Delta method algorithm that worked well above, and the Naive Bayes algorithm. Both take into account word usage and frequency, and use these frequencies in determining the similarities between texts. The key differences, in the end, is the way these results are frame. Multinomial Naive Bayes does not take into account means or standard deviations, and in the end gives a percentage based on how many predictions were entirely correct, or entirely wrong.\n",
        "\n",
        "Delta method compares directly the differences between the unknown and known texts, and takes far more into account to create a more accurate final result."
      ]
    },
    {
      "cell_type": "markdown",
      "metadata": {
        "id": "T8-3WMqk0d29"
      },
      "source": [
        "# Contributions"
      ]
    },
    {
      "cell_type": "markdown",
      "metadata": {
        "id": "kiBpqlyL0fLU"
      },
      "source": [
        "As far as I have found, my project is the only of its kind, based on previous data collected by me. From my previous work, I improved on the data analysis, building and applying actual classifiers and algorithms. I optimised Naive Bayes the best I could with methods such as Laplace smoothing, and improved on existing, similar applications such as KnowBias by making use of a specific type of media. "
      ]
    },
    {
      "cell_type": "markdown",
      "metadata": {
        "id": "0UvedlFEeXnk"
      },
      "source": [
        "# References"
      ]
    },
    {
      "cell_type": "markdown",
      "metadata": {
        "id": "JEBB5Z5GeZyj"
      },
      "source": [
        "*   Bruno Stecanella, \"A practical explanation of a Naive Bayes classifier\", https://monkeylearn.com/blog/practical-explanation-naive-bayes-classifier/\n",
        "*   Jason Brownlee, \"Naive Bayes Classifier From Scratch in Python\n",
        "\", https://machinelearningmastery.com/naive-bayes-classifier-scratch-python/\n",
        "*   François Dominic Laramée, \"Introduction to stylometry with Python\", https://programminghistorian.org/en/lessons/introduction-to-stylometry-with-python\n",
        "\n"
      ]
    }
  ]
}